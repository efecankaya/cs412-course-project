{
 "cells": [
  {
   "cell_type": "markdown",
   "metadata": {},
   "source": [
    "# Install necessary libraries"
   ]
  },
  {
   "cell_type": "code",
   "execution_count": null,
   "metadata": {},
   "outputs": [],
   "source": [
    "!pip3 install matplotlib pandas graphviz bs4 scikit-learn"
   ]
  },
  {
   "cell_type": "markdown",
   "metadata": {},
   "source": [
    "# Import the libraries"
   ]
  },
  {
   "cell_type": "code",
   "execution_count": 4,
   "metadata": {},
   "outputs": [],
   "source": [
    "import os\n",
    "import re\n",
    "import os\n",
    "import tqdm\n",
    "from glob import glob\n",
    "from pathlib import Path\n",
    "\n",
    "import matplotlib.pyplot as plt\n",
    "import pandas as pd\n",
    "import numpy as np\n",
    "from pprint import pprint\n",
    "import graphviz\n",
    "\n",
    "from collections import defaultdict\n",
    "from bs4 import BeautifulSoup\n",
    "\n",
    "from sklearn.feature_extraction.text import TfidfVectorizer\n",
    "from sklearn.metrics.pairwise import cosine_similarity\n",
    "\n",
    "from sklearn import tree\n",
    "from sklearn.tree import DecisionTreeRegressor\n",
    "from sklearn.model_selection import train_test_split \n",
    "from sklearn.metrics import mean_squared_error, r2_score"
   ]
  },
  {
   "cell_type": "markdown",
   "metadata": {},
   "source": [
    "# HTML Parsing"
   ]
  },
  {
   "cell_type": "markdown",
   "metadata": {},
   "source": [
    "Build the id to conversation dictionary"
   ]
  },
  {
   "cell_type": "code",
   "execution_count": 12,
   "metadata": {},
   "outputs": [
    {
     "name": "stderr",
     "output_type": "stream",
     "text": [
      "100%|██████████| 127/127 [00:15<00:00,  8.17it/s]\n"
     ]
    }
   ],
   "source": [
    "data_path = \"data/html/*.html\"\n",
    "\n",
    "id_to_conversation = dict()\n",
    "\n",
    "pbar = tqdm.tqdm(sorted(list(glob(data_path))))\n",
    "for path in pbar:\n",
    "\n",
    "    file_id = os.path.basename(path).split(\".\")[0]\n",
    "\n",
    "    with open(path, \"r\", encoding=\"latin1\") as file:\n",
    "        html = file.read()\n",
    "        soup = BeautifulSoup(html, \"html.parser\")\n",
    "\n",
    "        conversations = soup.find_all(\"div\", attrs={\"data-testid\": re.compile(r\"conversation-turn-[0-9]+\")})\n",
    "\n",
    "        conversation_texts = []\n",
    "        for i, conversation in enumerate(conversations):\n",
    "            conversation = conversation.find_all(\"div\", attrs={\"data-message-author-role\": re.compile(r\"[user|assistant]\")})\n",
    "            \n",
    "            if len(conversation) > 0:\n",
    "                role = conversation[0].get(\"data-message-author-role\")\n",
    "                conversation_texts.append(\n",
    "                    {\n",
    "                        \"role\" : role,\n",
    "                        \"text\" : conversation[0].text\n",
    "                    }\n",
    "                )\n",
    "        \n",
    "        id_to_conversation[file_id] = conversation_texts"
   ]
  },
  {
   "cell_type": "markdown",
   "metadata": {},
   "source": [
    "Example conversation element (message)"
   ]
  },
  {
   "cell_type": "code",
   "execution_count": 19,
   "metadata": {},
   "outputs": [
    {
     "name": "stdout",
     "output_type": "stream",
     "text": [
      "{'role': 'user',\n",
      " 'text': 'Load a CSV file into a Pandas in Python. The file is named '\n",
      "         \"'cs412_hw1_dataset.csv' and contains columns like 'Species', \"\n",
      "         \"'Island', 'Sex', 'Diet', 'Year', 'Life Stage', 'Body Mass (g)', \"\n",
      "         \"'Bill Length (mm)', 'Bill Depth (mm)', 'Flipper Length (mm)', and \"\n",
      "         \"'Health Metrics'. \\n\"}\n"
     ]
    }
   ],
   "source": [
    "pprint(id_to_conversation[\"0031c86e-81f4-4eef-9e0e-28037abf9883\"][0])"
   ]
  },
  {
   "cell_type": "markdown",
   "metadata": {},
   "source": [
    "# Prompt Matching"
   ]
  },
  {
   "cell_type": "markdown",
   "metadata": {},
   "source": [
    "Build the id to user prompts dictionary, and collect all user prompts in a list"
   ]
  },
  {
   "cell_type": "code",
   "execution_count": 21,
   "metadata": {},
   "outputs": [],
   "source": [
    "all_user_prompts = []\n",
    "\n",
    "id_to_user_prompts = dict()\n",
    "\n",
    "for id, conversation in id_to_conversation.items():\n",
    "    user_prompts = []\n",
    "\n",
    "    for message in conversation:\n",
    "        if message[\"role\"] == \"user\":\n",
    "            all_user_prompts.append(message[\"text\"])\n",
    "            user_prompts.append(message[\"text\"])\n",
    "    \n",
    "    id_to_user_prompts[id] = user_prompts"
   ]
  },
  {
   "cell_type": "code",
   "execution_count": 24,
   "metadata": {},
   "outputs": [
    {
     "name": "stdout",
     "output_type": "stream",
     "text": [
      "3544\n",
      "Load a CSV file into a Pandas in Python. The file is named 'cs412_hw1_dataset.csv' and contains columns like 'Species', 'Island', 'Sex', 'Diet', 'Year', 'Life Stage', 'Body Mass (g)', 'Bill Length (mm)', 'Bill Depth (mm)', 'Flipper Length (mm)', and 'Health Metrics'. \n",
      "\n"
     ]
    }
   ],
   "source": [
    "# This list contains every prompt that students made\n",
    "print(len(all_user_prompts))\n",
    "print(all_user_prompts[0])"
   ]
  }
 ],
 "metadata": {
  "kernelspec": {
   "display_name": "Python 3",
   "language": "python",
   "name": "python3"
  },
  "language_info": {
   "codemirror_mode": {
    "name": "ipython",
    "version": 3
   },
   "file_extension": ".py",
   "mimetype": "text/x-python",
   "name": "python",
   "nbconvert_exporter": "python",
   "pygments_lexer": "ipython3",
   "version": "3.9.4"
  }
 },
 "nbformat": 4,
 "nbformat_minor": 2
}
